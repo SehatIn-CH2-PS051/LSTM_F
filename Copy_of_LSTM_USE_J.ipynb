{
  "cells": [
    {
      "cell_type": "code",
      "execution_count": 4,
      "metadata": {
        "colab": {
          "base_uri": "https://localhost:8080/"
        },
        "id": "f7uaTHQEEBqs",
        "outputId": "a21dbace-6375-4a9b-a0c7-57ad66686d90"
      },
      "outputs": [
        {
          "name": "stdout",
          "output_type": "stream",
          "text": [
            "Collecting mysql-connector\n",
            "  Downloading mysql-connector-2.2.9.tar.gz (11.9 MB)\n",
            "\u001b[2K     \u001b[90m━━━━━━━━━━━━━━━━━━━━━━━━━━━━━━━━━━━━━━━━\u001b[0m \u001b[32m11.9/11.9 MB\u001b[0m \u001b[31m22.8 MB/s\u001b[0m eta \u001b[36m0:00:00\u001b[0m\n",
            "\u001b[?25h  Preparing metadata (setup.py) ... \u001b[?25l\u001b[?25hdone\n",
            "Building wheels for collected packages: mysql-connector\n",
            "  Building wheel for mysql-connector (setup.py) ... \u001b[?25l\u001b[?25hdone\n",
            "  Created wheel for mysql-connector: filename=mysql_connector-2.2.9-cp310-cp310-linux_x86_64.whl size=247952 sha256=f06c04715ca20c88d41b6a54c14913d02851b8d43873b7d56e5e253943b4eb66\n",
            "  Stored in directory: /root/.cache/pip/wheels/76/48/9b/da67ff1a18fe8e9d428f9b1a177716d4a7d363d2bbe83bf6cf\n",
            "Successfully built mysql-connector\n",
            "Installing collected packages: mysql-connector\n",
            "Successfully installed mysql-connector-2.2.9\n"
          ]
        }
      ],
      "source": [
        "!pip install mysql-connector"
      ]
    },
    {
      "cell_type": "code",
      "execution_count": 5,
      "metadata": {
        "id": "X1pSRh7n3Ktt"
      },
      "outputs": [],
      "source": [
        "import pandas as pd\n",
        "import numpy as np\n",
        "import datetime as dt\n",
        "import tensorflow as tf\n",
        "import matplotlib.pyplot as plt\n",
        "import random\n",
        "from sklearn.model_selection import train_test_split\n",
        "from sqlalchemy import create_engine\n",
        "import mysql.connector"
      ]
    },
    {
      "cell_type": "code",
      "execution_count": 6,
      "metadata": {
        "colab": {
          "base_uri": "https://localhost:8080/"
        },
        "id": "uNTO-gxTrcXK",
        "outputId": "0c95f4e7-d547-4ba3-fab1-0add89d0cf7b"
      },
      "outputs": [
        {
          "name": "stdout",
          "output_type": "stream",
          "text": [
            "              id       user_id            food    portion  calories  carbs  \\\n",
            "0   a1347b90e57c  ed32b89372f8      Brown Rice      1 cup     215.0  45.08   \n",
            "1   b0218f50d96a  ed32b89372f8           Tempe      1 ons      55.0   9.39   \n",
            "2   c2596d78f23e  ed32b89372f8  Chicken Breast      4 ons     187.0   0.00   \n",
            "3   d3850e14a79f  ed32b89372f8        Broccoli      1 cup      55.0  11.20   \n",
            "4   e4931f67b02d  ed32b89372f8          Salmon      6 ons     367.0  12.00   \n",
            "5   f5062c89d31a  ed32b89372f8            Tahu   100 gram      80.0   1.90   \n",
            "6   g6173a82e54b  ed32b89372f8        Kangkung   200 gram      28.0   3.90   \n",
            "7   g7Hj2fR4kL1q  ed32b89372f8    Ikan Kembung    85 gram     142.0   7.96   \n",
            "8   l6Dx8zK2cY7v  ed32b89372f8         Lontong   1 potong     130.0  28.58   \n",
            "9   p3Aq1C5vZ2bX  ed32b89372f8     Telur Dadar     1 gram     153.0   0.69   \n",
            "10  t9Wp5bV0mN3o  ed32b89372f8           Oncom  1 mangkok      97.0   7.17   \n",
            "11  u2Ov9T4gH1sR  ed32b89372f8      Bakso Ayam   108 gram     174.0   7.49   \n",
            "\n",
            "    prots   fats message       date            time image_url  \\\n",
            "0    5.03   1.60    None 2023-12-16 0 days 13:46:46      None   \n",
            "1   18.54  10.80    None 2023-12-15 0 days 17:26:56      None   \n",
            "2   39.30   3.60    None 2023-12-18 0 days 14:46:46      None   \n",
            "3    3.70   0.60    None 2023-12-19 0 days 15:58:43      None   \n",
            "4   40.60  22.40    None 2023-12-17 0 days 16:58:43      None   \n",
            "5   10.90   4.70    None 2023-12-21 0 days 05:11:31      None   \n",
            "6    3.40   0.70    None 2023-12-20 0 days 16:23:35      None   \n",
            "7    0.00  16.42    None 2023-12-22 0 days 19:23:35      None   \n",
            "8    2.49   0.20    None 2023-12-24 0 days 15:10:31      None   \n",
            "9   10.62  12.02    None 2023-12-24 0 days 20:30:21      None   \n",
            "10   8.39   4.41    None 2023-12-23 0 days 10:26:27      None   \n",
            "11  20.94   6.07    None 2023-12-26 0 days 19:29:38      None   \n",
            "\n",
            "             Timestamp Pesan  \n",
            "0  2023-12-16 13:46:46  None  \n",
            "1  2023-12-15 17:26:56  None  \n",
            "2  2023-12-18 14:46:46  None  \n",
            "3  2023-12-19 15:58:43  None  \n",
            "4  2023-12-17 16:58:43  None  \n",
            "5  2023-12-21 05:11:31  None  \n",
            "6  2023-12-20 16:23:35  None  \n",
            "7  2023-12-22 19:23:35  None  \n",
            "8  2023-12-24 15:10:31  None  \n",
            "9  2023-12-24 20:30:21  None  \n",
            "10 2023-12-23 10:26:27  None  \n",
            "11 2023-12-26 19:29:38  None  \n"
          ]
        }
      ],
      "source": [
        "USER_ID = \"ed32b89372f8\"\n",
        "# Define the database connection parameters\n",
        "db_config = {\n",
        "    'host': '34.128.108.220',\n",
        "    'user': 'root',\n",
        "    'password': 'sehatin-db-password',\n",
        "    'database': 'sehatin'\n",
        "}\n",
        "\n",
        "# Establish a connection to the database\n",
        "connection = mysql.connector.connect(**db_config)\n",
        "\n",
        "# Create a cursor object\n",
        "cursor = connection.cursor()\n",
        "\n",
        "# Define your SQL query with a placeholder for the user_id\n",
        "sql_query = \"SELECT * FROM eat_logs WHERE user_id = %s\"\n",
        "\n",
        "# Execute the SQL query with the user_id as a parameter\n",
        "cursor.execute(sql_query, (USER_ID,))\n",
        "result = cursor.fetchall()\n",
        "\n",
        "# Create a DataFrame from the query result\n",
        "df = pd.DataFrame(result, columns=cursor.column_names)\n",
        "df['date'] = pd.to_datetime(df['date'])\n",
        "\n",
        "# Remove 'days' part from 'time' and convert to timedelta\n",
        "df['time'] = pd.to_timedelta(df['time'].astype(str).str.replace(' days ', ' ').str.replace(' day ', ' '))\n",
        "\n",
        "# Combine 'date' and 'time' columns to create 'Timestamp'\n",
        "df['Timestamp'] = df['date'] + df['time']\n",
        "\n",
        "# Initialize 'Pesan' column\n",
        "df['Pesan'] = None\n",
        "# Display the DataFrame\n",
        "print(df)"
      ]
    },
    {
      "cell_type": "code",
      "execution_count": 8,
      "metadata": {
        "id": "HXoSpqJpsPyh"
      },
      "outputs": [],
      "source": [
        "\n",
        "\n",
        "# 4. Masukkan nama file/pathnya ke sini(MODELNYA NANTI DI DEPLOY KE GCP)\n",
        "model = tf.keras.models.load_model('/content/lstm_model - Final.h5')"
      ]
    },
    {
      "cell_type": "code",
      "execution_count": 9,
      "metadata": {
        "colab": {
          "base_uri": "https://localhost:8080/",
          "height": 1000
        },
        "id": "lDqXRHU03FKS",
        "outputId": "331fbb0e-7455-448c-9525-60ca40e83044"
      },
      "outputs": [
        {
          "name": "stdout",
          "output_type": "stream",
          "text": [
            "id                    object\n",
            "user_id               object\n",
            "food                  object\n",
            "portion               object\n",
            "calories             float64\n",
            "carbs                float64\n",
            "prots                float64\n",
            "fats                 float64\n",
            "message               object\n",
            "date          datetime64[ns]\n",
            "time         timedelta64[ns]\n",
            "image_url             object\n",
            "Timestamp     datetime64[ns]\n",
            "Pesan                 object\n",
            "dtype: object\n",
            "              time       date  carbs  prots\n",
            "0  0 days 13:46:46 2023-12-16  45.08   5.03\n",
            "1  0 days 17:26:56 2023-12-15   9.39  18.54\n",
            "2  0 days 14:46:46 2023-12-18   0.00  39.30\n",
            "3  0 days 15:58:43 2023-12-19  11.20   3.70\n",
            "4  0 days 16:58:43 2023-12-17  12.00  40.60\n",
            "5  0 days 05:11:31 2023-12-21   1.90  10.90\n",
            "6  0 days 16:23:35 2023-12-20   3.90   3.40\n",
            "7  0 days 19:23:35 2023-12-22   7.96   0.00\n",
            "8  0 days 15:10:31 2023-12-24  28.58   2.49\n",
            "9  0 days 20:30:21 2023-12-24   0.69  10.62\n",
            "10 0 days 10:26:27 2023-12-23   7.17   8.39\n",
            "11 0 days 19:29:38 2023-12-26   7.49  20.94\n"
          ]
        },
        {
          "name": "stderr",
          "output_type": "stream",
          "text": [
            "<ipython-input-9-92c35612c62b>:15: FutureWarning: The default value of numeric_only in DataFrameGroupBy.sum is deprecated. In a future version, numeric_only will default to False. Either specify numeric_only or select only columns which should be valid for the function.\n",
            "  daily_data = df.resample('D').sum()  # Change 'sum' to 'mean', etc. as needed\n"
          ]
        },
        {
          "name": "stdout",
          "output_type": "stream",
          "text": [
            "1/1 [==============================] - 1s 1s/step\n",
            "[[[-8.57575989e+00 -5.31398058e-01 -3.46100062e-01  7.07510114e-03]\n",
            "  [-8.66473579e+00  6.17545843e-02  1.04590535e-01  1.24823898e-01]\n",
            "  [-4.90672541e+00 -7.84066916e-02 -1.39424741e-01  7.36097097e-02]\n",
            "  [ 1.09579178e+02  2.30598297e+01  2.29651089e+01  2.29462929e+01]\n",
            "  [ 6.25583410e-01  8.70683253e-01  3.09691131e-01  4.30034310e-01]\n",
            "  [ 4.25083733e+00  4.15206480e+00  3.99194145e+00  3.67840505e+00]\n",
            "  [-1.63769090e+00 -4.61741090e-01  2.70519033e-03  1.79993987e-01]]]\n",
            "(1, 7, 4)\n"
          ]
        },
        {
          "data": {
            "image/png": "[encoded data removed]",
            "text/plain": [
              "<Figure size 640x480 with 1 Axes>"
            ]
          },
          "metadata": {},
          "output_type": "display_data"
        }
      ],
      "source": [
        "# Check the data types of columns\n",
        "df[['calories', 'carbs', 'prots', 'fats']].astype(float)\n",
        "print(df.dtypes)\n",
        "\n",
        "# Convert 'Tanggal' column to datetime format (if not already)\n",
        "df['date'] = pd.to_datetime(df['date'], format='%Y/%m/%d')\n",
        "\n",
        "# Displaying the DataFrame\n",
        "print(df[['time', 'date', 'carbs', 'prots']])\n",
        "\n",
        "# Set the 'date' column as the index\n",
        "df.set_index('date', inplace=True)\n",
        "\n",
        "# Resample the data by day and calculate the sum (or mean, etc.)\n",
        "daily_data = df.resample('D').sum()  \n",
        "\n",
        "# Reset the index\n",
        "daily_data.reset_index(inplace=True)\n",
        "\n",
        "# Extract the time series columns\n",
        "series = daily_data[['calories', 'carbs', 'prots', 'fats']].values\n",
        "\n",
        "# Assuming 'series' contains your data with shape (n, 4)\n",
        "# where 'n' is the number of rows\n",
        "\n",
        "desired_sequence_length = 250\n",
        "number_of_features = 4\n",
        "\n",
        "# Pad or slice 'series' to achieve a length of 250 rows\n",
        "if len(series) < desired_sequence_length:\n",
        "    # Pad the series with zeros to reach the desired length\n",
        "    padded_data = np.zeros((desired_sequence_length, number_of_features))\n",
        "    padded_data[-len(series):, :] = series  # Fill in the data at the end of the padded array\n",
        "else:\n",
        "    # Take the last 250 rows if there are more than 250 rows\n",
        "    padded_data = series[-desired_sequence_length:, :]\n",
        "\n",
        "# Reshape the padded data to match the expected shape\n",
        "reshaped_data = padded_data.reshape((1, desired_sequence_length, number_of_features))\n",
        "\n",
        "# Now, 'reshaped_data' has the shape (1, 250, 4)\n",
        "# You can use this reshaped data to make predictions using your trained model\n",
        "predicted_values = model.predict(reshaped_data)\n",
        "print(predicted_values)\n",
        "print(predicted_values.shape)\n",
        "\n",
        "# Create a new figure\n",
        "plt.figure()\n",
        "\n",
        "# Plot each column of the predicted values as a separate line\n",
        "for i in range(predicted_values.shape[2]):\n",
        "    plt.plot(predicted_values[0, :, i], label=f'Predicted Values {i+1}')\n",
        "\n",
        "# Add a legend\n",
        "plt.legend()\n",
        "\n",
        "# Display the plot\n",
        "plt.show()"
      ]
    }
  ],
  "metadata": {
    "accelerator": "GPU",
    "colab": {
      "gpuType": "T4",
      "provenance": []
    },
    "kernelspec": {
      "display_name": "Python 3",
      "name": "python3"
    },
    "language_info": {
      "name": "python"
    }
  },
  "nbformat": 4,
  "nbformat_minor": 0
}
